{
 "cells": [
  {
   "cell_type": "markdown",
   "metadata": {},
   "source": [
    "## KNN電影分類特徵值的項目與評分\n",
    "### 題目：\n",
    "![](images/knn.png)\n",
    "### 答案：\n",
    "![output](images/knn_.png)"
   ]
  },
  {
   "cell_type": "code",
   "execution_count": 5,
   "metadata": {},
   "outputs": [
    {
     "name": "stdout",
     "output_type": "stream",
     "text": [
      "與玩命關頭最相似的電影 :  雙子殺手\n",
      "相似度值 :  6\n",
      "影片 : 復仇者聯盟, 相似度 :  51.00\n",
      "影片 : 決戰中途島, 相似度 :  75.00\n",
      "影片 : 冰雪奇緣, 相似度 : 262.00\n",
      "影片 : 雙子殺手, 相似度 :   6.00\n"
     ]
    }
   ],
   "source": [
    "import math\n",
    "\n",
    "film = [5, 7, 8, 10, 2]             # 玩命關頭特徵值\n",
    "film_titles = [                     # 比較影片片名\n",
    "    '復仇者聯盟',\n",
    "    '決戰中途島',\n",
    "    '冰雪奇緣',\n",
    "    '雙子殺手',\n",
    "]\n",
    "film_features = [                   # 比較影片特徵值\n",
    "    [2, 8, 8, 5, 6],\n",
    "    [5, 6, 9, 2, 5],\n",
    "    [8, 2, 0, 0, 10],\n",
    "    [5, 8, 8, 8, 3],\n",
    "]\n",
    "\n",
    "# 儲存影片相似度值\n",
    "dist = [] \n",
    "for f in film_features:\n",
    "    distances = 0\n",
    "    for i in range(len(f)):\n",
    "        distances += (film[i] - f[i]) ** 2\n",
    "    dist.append(distances)\n",
    "\n",
    "#計算各電影相似程度\n",
    "\n",
    "    \n",
    "# 求最小值\n",
    "mim_film = min(dist)\n",
    "# 最小值的索引\n",
    "min_index = dist.index(mim_film)\n",
    "\n",
    "print(\"與玩命關頭最相似的電影 : \",film_titles[min_index])\n",
    "print(\"相似度值 : \",dist[min_index])\n",
    "#印出玩命關頭與其他所有電影的相似程度\n",
    "for i in range(len(dist)):\n",
    "    print(\"影片 : %s, 相似度 : %6.2f\"%(film_titles[i], dist[i]))\n",
    "\n"
   ]
  },
  {
   "cell_type": "code",
   "execution_count": null,
   "metadata": {},
   "outputs": [],
   "source": []
  },
  {
   "cell_type": "code",
   "execution_count": null,
   "metadata": {},
   "outputs": [],
   "source": []
  }
 ],
 "metadata": {
  "kernelspec": {
   "display_name": "Python 3 (ipykernel)",
   "language": "python",
   "name": "python3"
  },
  "language_info": {
   "codemirror_mode": {
    "name": "ipython",
    "version": 3
   },
   "file_extension": ".py",
   "mimetype": "text/x-python",
   "name": "python",
   "nbconvert_exporter": "python",
   "pygments_lexer": "ipython3",
   "version": "3.11.7"
  }
 },
 "nbformat": 4,
 "nbformat_minor": 4
}
