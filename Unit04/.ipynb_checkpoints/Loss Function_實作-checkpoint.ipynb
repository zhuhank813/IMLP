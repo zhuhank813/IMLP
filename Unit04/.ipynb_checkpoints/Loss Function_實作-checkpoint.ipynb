{
 "cells": [
  {
   "cell_type": "markdown",
   "metadata": {},
   "source": [
    "\n",
    "# 評估指標實作篇\n",
    "建立一個機器學習模型後，需要計算評估指標分數，<br>\n",
    "從指標中獲得反饋看模型表現的優劣，再繼續改進模型，直到達到理想的指標分數。\n",
    "\n"
   ]
  },
  {
   "cell_type": "markdown",
   "metadata": {},
   "source": [
    "<img  src=\"images/MAE.jpg\" align='left'/><br><br><br><br><br>\n",
    "<img  src=\"images/MSE.jpg\" align='left'/><br><br><br><br><br>\n",
    "<img  src=\"images/RMSE.jpg\" align='left'/><br><br><br><br><br>\n",
    "\n",
    "ANS<br>\n",
    "MAE =  1.4916666666666665<br>\n",
    "MSE =  2.72875<br>\n",
    "RMSE =  1.651892853668179<br>\n"
   ]
  },
  {
   "cell_type": "code",
   "execution_count": 19,
   "metadata": {},
   "outputs": [],
   "source": [
    "target = [1.5, 2.1, 3.3, -4.7, -2.3, 0.75]\n",
    "prediction = [0.5, 1.5, 2.1, -2.2, 0.1, -0.5]"
   ]
  },
  {
   "cell_type": "code",
   "execution_count": 20,
   "metadata": {},
   "outputs": [],
   "source": [
    "#Ans\n",
    "\n",
    "\n",
    "#平均絕對誤差MAE\n",
    "print(\"Absolute Value of Error: \")\n",
    "print(\"MAE = \")\n",
    "\n",
    "#均方誤差MSE\n",
    "print(\"Square Error: \")\n",
    "print(\"MSE = \"\n",
    "\n",
    "#均方根誤差RMSE\n",
    "print(\"RMSE = \")\n",
    "\n",
    " \n",
    "\n"
   ]
  },
  {
   "cell_type": "markdown",
   "metadata": {},
   "source": [
    "#### other\n",
    "平均值 變異數 標準差"
   ]
  },
  {
   "cell_type": "code",
   "execution_count": null,
   "metadata": {},
   "outputs": [],
   "source": [
    "targetDeviation = []\n",
    "targetMean = sum(target) / len(target)#target平均值\n",
    "for val in target:\n",
    "    targetDeviation.append((val - targetMean) * (val - targetMean))\n",
    "print(\"Target Variance = \", sum(targetDeviation) / len(targetDeviation))#方差\n",
    "print(\"Target Standard Deviation = \", sqrt(sum(targetDeviation) / len(targetDeviation)))#標準差"
   ]
  },
  {
   "cell_type": "markdown",
   "metadata": {},
   "source": [
    "# sklearn\n",
    "from sklearn import metrics\n",
    "\n",
    ">Mean Absolute Error (MAE)代表平均誤差，公式為所有實際值及預測值相減的絕對值平均。\n",
    "\n",
    ">Mean Squared Error (MSE)比起MSE可以拉開誤差差距，算是蠻常用的指標，公式所有實際值及預測值相減的平方的平均\n",
    "\n",
    ">Root Mean Squared Error (RMSE)代表MSE的平方根。比起MSE更為常用，因為更容易解釋y。\n"
   ]
  },
  {
   "cell_type": "code",
   "execution_count": null,
   "metadata": {},
   "outputs": [],
   "source": [
    "y_test = [1.5, 2.1, 3.3, -4.7, -2.3, 0.75]\n",
    "predictions = [0.5, 1.5, 2.1, -2.2, 0.1, -0.5]"
   ]
  },
  {
   "cell_type": "code",
   "execution_count": null,
   "metadata": {},
   "outputs": [],
   "source": [
    "#載入迴歸常見的評估指標\n",
    "from sklearn import metrics\n",
    "import numpy as np\n",
    "\n",
    "MAE = metrics.mean_absolute_error(y_test,predictions)\n",
    "\n",
    "MSE = metrics.mean_squared_error(y_test,predictions)\n",
    "\n",
    "RMSE = np.sqrt(metrics.mean_squared_error(y_test,predictions))\n",
    "\n",
    "print(\"MAE =  \", MAE)\n",
    "print(\"MSE = \", MSE)\n",
    "print(\"RMSE = \", RMSE)"
   ]
  }
 ],
 "metadata": {
  "kernelspec": {
   "display_name": "Python 3",
   "language": "python",
   "name": "python3"
  },
  "language_info": {
   "codemirror_mode": {
    "name": "ipython",
    "version": 3
   },
   "file_extension": ".py",
   "mimetype": "text/x-python",
   "name": "python",
   "nbconvert_exporter": "python",
   "pygments_lexer": "ipython3",
   "version": "3.8.8"
  }
 },
 "nbformat": 4,
 "nbformat_minor": 4
}
